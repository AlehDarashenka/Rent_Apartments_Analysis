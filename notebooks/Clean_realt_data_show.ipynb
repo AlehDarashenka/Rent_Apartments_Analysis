{
 "cells": [
  {
   "cell_type": "code",
   "execution_count": 1,
   "metadata": {},
   "outputs": [],
   "source": [
    "import warnings\n",
    "warnings.filterwarnings('ignore')\n",
    "\n",
    "import re\n",
    "import json\n",
    "\n",
    "import numpy as np\n",
    "import pandas as pd\n",
    "import geopandas as gpd\n",
    "\n",
    "from shapely import geometry\n",
    "from geopy.distance import vincenty\n",
    "\n",
    "from tqdm import tqdm_notebook\n",
    "\n",
    "import matplotlib.pyplot as plt\n",
    "import seaborn as sns\n",
    "%matplotlib inline\n",
    "\n",
    "from sklearn import linear_model\n",
    "from sklearn import preprocessing\n",
    "from sklearn.ensemble import RandomForestRegressor\n",
    "from sklearn.model_selection import cross_val_score\n",
    "from sklearn.model_selection import train_test_split\n",
    "from sklearn.metrics import mean_absolute_error, mean_squared_error, r2_score\n",
    "\n",
    "pd.set_option('display.max_rows', 500)\n",
    "pd.set_option('display.max_columns', 500)\n",
    "pd.set_option('display.width', 1000)\n",
    "\n",
    "plt.rcParams['figure.figsize']=(14,6)"
   ]
  },
  {
   "cell_type": "markdown",
   "metadata": {},
   "source": [
    "### Загруза данных"
   ]
  },
  {
   "cell_type": "code",
   "execution_count": 2,
   "metadata": {},
   "outputs": [
    {
     "name": "stdout",
     "output_type": "stream",
     "text": [
      "Количество квартир: 2101\n"
     ]
    },
    {
     "data": {
      "text/html": [
       "<div>\n",
       "<style>\n",
       "    .dataframe thead tr:only-child th {\n",
       "        text-align: right;\n",
       "    }\n",
       "\n",
       "    .dataframe thead th {\n",
       "        text-align: left;\n",
       "    }\n",
       "\n",
       "    .dataframe tbody tr th {\n",
       "        vertical-align: top;\n",
       "    }\n",
       "</style>\n",
       "<table border=\"1\" class=\"dataframe\">\n",
       "  <thead>\n",
       "    <tr style=\"text-align: right;\">\n",
       "      <th></th>\n",
       "      <th>address</th>\n",
       "      <th>area</th>\n",
       "      <th>code</th>\n",
       "      <th>description</th>\n",
       "      <th>floor</th>\n",
       "      <th>kv</th>\n",
       "      <th>latitude</th>\n",
       "      <th>longitude</th>\n",
       "      <th>photos</th>\n",
       "      <th>price_local</th>\n",
       "      <th>price_usa</th>\n",
       "      <th>views_day</th>\n",
       "      <th>views_week</th>\n",
       "      <th>zones</th>\n",
       "      <th>Агентство</th>\n",
       "      <th>Балкон</th>\n",
       "      <th>Бытовая техника</th>\n",
       "      <th>Вид этажа</th>\n",
       "      <th>Год кап.ремонта</th>\n",
       "      <th>Год постройки</th>\n",
       "      <th>Дата обновления</th>\n",
       "      <th>Дополнительно</th>\n",
       "      <th>Мебель</th>\n",
       "      <th>Метро</th>\n",
       "      <th>На Новый год</th>\n",
       "      <th>Направление</th>\n",
       "      <th>Населенный пункт</th>\n",
       "      <th>Планировка</th>\n",
       "      <th>Плита</th>\n",
       "      <th>Полы</th>\n",
       "      <th>Предоплата</th>\n",
       "      <th>Примечания</th>\n",
       "      <th>Район (области)</th>\n",
       "      <th>Район города</th>\n",
       "      <th>Ремонт</th>\n",
       "      <th>Сан/узел</th>\n",
       "      <th>Соседи по квартире</th>\n",
       "      <th>Специалист</th>\n",
       "      <th>Срок сдачи</th>\n",
       "      <th>Телефон</th>\n",
       "      <th>Тип дома</th>\n",
       "      <th>УНП</th>\n",
       "      <th>Условия сдачи</th>\n",
       "      <th>Услуга агентства</th>\n",
       "      <th>Число спальных мест</th>\n",
       "      <th>Этаж / этажность</th>\n",
       "    </tr>\n",
       "  </thead>\n",
       "  <tbody>\n",
       "    <tr>\n",
       "      <th>0</th>\n",
       "      <td>Гатово, Металлургическая ул., 22</td>\n",
       "      <td>34/17/9</td>\n",
       "      <td>1210700</td>\n",
       "      <td></td>\n",
       "      <td>6/9 б</td>\n",
       "      <td>1/1</td>\n",
       "      <td>53.783539</td>\n",
       "      <td>27.627417</td>\n",
       "      <td>4.0</td>\n",
       "      <td>237 руб/месяц</td>\n",
       "      <td>120 $/месяц</td>\n",
       "      <td>7</td>\n",
       "      <td>149</td>\n",
       "      <td>NaN</td>\n",
       "      <td>NaN</td>\n",
       "      <td>балкон</td>\n",
       "      <td>холодильник, свч-печь, стиральная машина, теле...</td>\n",
       "      <td>NaN</td>\n",
       "      <td>NaN</td>\n",
       "      <td>1991.0</td>\n",
       "      <td>2017-12-11</td>\n",
       "      <td>металлическая дверь, лифт, встроенные шкафы, с...</td>\n",
       "      <td>есть</td>\n",
       "      <td>NaN</td>\n",
       "      <td>NaN</td>\n",
       "      <td>Пуховичское</td>\n",
       "      <td>Гатово</td>\n",
       "      <td>улучшенный проект</td>\n",
       "      <td>газовая</td>\n",
       "      <td>ламинат</td>\n",
       "      <td>3 месяца</td>\n",
       "      <td>Сдаётся однокомнатная квартира с хорошим ремон...</td>\n",
       "      <td>NaN</td>\n",
       "      <td>NaN</td>\n",
       "      <td>отличный ремонт</td>\n",
       "      <td>раздельный</td>\n",
       "      <td>NaN</td>\n",
       "      <td>NaN</td>\n",
       "      <td>длительный</td>\n",
       "      <td>есть</td>\n",
       "      <td>блок-комнаты</td>\n",
       "      <td>NaN</td>\n",
       "      <td>не компаниям</td>\n",
       "      <td>NaN</td>\n",
       "      <td>NaN</td>\n",
       "      <td>6 / 9</td>\n",
       "    </tr>\n",
       "    <tr>\n",
       "      <th>1</th>\n",
       "      <td>Минск, Сухаревская ул.</td>\n",
       "      <td>76/18/12</td>\n",
       "      <td>1212276</td>\n",
       "      <td></td>\n",
       "      <td>8/9 кар</td>\n",
       "      <td>к/3</td>\n",
       "      <td>53.888064</td>\n",
       "      <td>27.428422</td>\n",
       "      <td>8.0</td>\n",
       "      <td>297 руб/месяц</td>\n",
       "      <td>150 $/месяц</td>\n",
       "      <td>7</td>\n",
       "      <td>50</td>\n",
       "      <td>Сухарево</td>\n",
       "      <td>NaN</td>\n",
       "      <td>лоджия застекленная</td>\n",
       "      <td>холодильник, посуда, свч-печь, мелкая бытовая ...</td>\n",
       "      <td>NaN</td>\n",
       "      <td>NaN</td>\n",
       "      <td>2009.0</td>\n",
       "      <td>2017-12-14</td>\n",
       "      <td>домофон, металлическая дверь, лифт, стеклопаке...</td>\n",
       "      <td>есть</td>\n",
       "      <td>NaN</td>\n",
       "      <td>NaN</td>\n",
       "      <td>NaN</td>\n",
       "      <td>Минск</td>\n",
       "      <td>новостройка</td>\n",
       "      <td>электрическая</td>\n",
       "      <td>ламинат</td>\n",
       "      <td>месяц</td>\n",
       "      <td>Сдаю в аренду большую комнату в благоустроенно...</td>\n",
       "      <td>NaN</td>\n",
       "      <td>Фрунзенский район</td>\n",
       "      <td>хороший ремонт</td>\n",
       "      <td>2 сан/узла</td>\n",
       "      <td>1 человек</td>\n",
       "      <td>NaN</td>\n",
       "      <td>длительный</td>\n",
       "      <td>есть</td>\n",
       "      <td>каркасно-блочный</td>\n",
       "      <td>NaN</td>\n",
       "      <td>семье</td>\n",
       "      <td>NaN</td>\n",
       "      <td>NaN</td>\n",
       "      <td>8 / 9</td>\n",
       "    </tr>\n",
       "    <tr>\n",
       "      <th>2</th>\n",
       "      <td>Минск, Куйбышева ул., 48</td>\n",
       "      <td>61/12/6</td>\n",
       "      <td>1213112</td>\n",
       "      <td></td>\n",
       "      <td>4/5 к</td>\n",
       "      <td>к/3</td>\n",
       "      <td>53.925400</td>\n",
       "      <td>27.582700</td>\n",
       "      <td>9.0</td>\n",
       "      <td>237 руб/месяц</td>\n",
       "      <td>120 $/месяц</td>\n",
       "      <td>4</td>\n",
       "      <td>33</td>\n",
       "      <td>Богдановича, Куйбышева, Веры Хоружей</td>\n",
       "      <td>NaN</td>\n",
       "      <td>лоджия</td>\n",
       "      <td>NaN</td>\n",
       "      <td>NaN</td>\n",
       "      <td>NaN</td>\n",
       "      <td>1969.0</td>\n",
       "      <td>2017-12-15</td>\n",
       "      <td>домофон, металлическая дверь, окна во двор, де...</td>\n",
       "      <td>частично</td>\n",
       "      <td>Площадь Якуба Коласа (Московская линия).</td>\n",
       "      <td>NaN</td>\n",
       "      <td>NaN</td>\n",
       "      <td>Минск</td>\n",
       "      <td>улучшенный проект</td>\n",
       "      <td>газовая</td>\n",
       "      <td>паркет</td>\n",
       "      <td>NaN</td>\n",
       "      <td>Сдам на длительный срок (не агентство) комнату...</td>\n",
       "      <td>NaN</td>\n",
       "      <td>Советский район</td>\n",
       "      <td>нормальный ремонт</td>\n",
       "      <td>раздельный</td>\n",
       "      <td>NaN</td>\n",
       "      <td>NaN</td>\n",
       "      <td>длительный</td>\n",
       "      <td>есть</td>\n",
       "      <td>кирпичный</td>\n",
       "      <td>NaN</td>\n",
       "      <td>NaN</td>\n",
       "      <td>NaN</td>\n",
       "      <td>NaN</td>\n",
       "      <td>4 / 5</td>\n",
       "    </tr>\n",
       "  </tbody>\n",
       "</table>\n",
       "</div>"
      ],
      "text/plain": [
       "                            address      area     code description      floor     kv   latitude  longitude  photos    price_local    price_usa  views_day  views_week                                 zones Агентство               Балкон                                    Бытовая техника Вид этажа  Год кап.ремонта  Год постройки Дата обновления                                      Дополнительно    Мебель                                     Метро На Новый год  Направление Населенный пункт         Планировка          Плита     Полы Предоплата                                         Примечания  Район (области)       Район города             Ремонт    Сан/узел Соседи по квартире Специалист  Срок сдачи Телефон          Тип дома  УНП Условия сдачи Услуга агентства Число спальных мест Этаж / этажность\n",
       "0  Гатово, Металлургическая ул., 22   34/17/9  1210700                 6/9 б    1/1   53.783539  27.627417     4.0  237 руб/месяц  120 $/месяц          7         149                                   NaN       NaN               балкон  холодильник, свч-печь, стиральная машина, теле...       NaN              NaN         1991.0      2017-12-11  металлическая дверь, лифт, встроенные шкафы, с...      есть                                       NaN          NaN  Пуховичское           Гатово  улучшенный проект        газовая  ламинат   3 месяца  Сдаётся однокомнатная квартира с хорошим ремон...              NaN                NaN    отличный ремонт  раздельный                NaN        NaN  длительный    есть      блок-комнаты  NaN  не компаниям              NaN                 NaN            6 / 9\n",
       "1            Минск, Сухаревская ул.  76/18/12  1212276               8/9 кар    к/3   53.888064  27.428422     8.0  297 руб/месяц  150 $/месяц          7          50                              Сухарево       NaN  лоджия застекленная  холодильник, посуда, свч-печь, мелкая бытовая ...       NaN              NaN         2009.0      2017-12-14  домофон, металлическая дверь, лифт, стеклопаке...      есть                                       NaN          NaN          NaN            Минск        новостройка  электрическая  ламинат      месяц  Сдаю в аренду большую комнату в благоустроенно...              NaN  Фрунзенский район     хороший ремонт  2 сан/узла          1 человек        NaN  длительный    есть  каркасно-блочный  NaN         семье              NaN                 NaN            8 / 9\n",
       "2          Минск, Куйбышева ул., 48   61/12/6  1213112                 4/5 к    к/3   53.925400  27.582700     9.0  237 руб/месяц  120 $/месяц          4          33  Богдановича, Куйбышева, Веры Хоружей       NaN               лоджия                                                NaN       NaN              NaN         1969.0      2017-12-15  домофон, металлическая дверь, окна во двор, де...  частично  Площадь Якуба Коласа (Московская линия).          NaN          NaN            Минск  улучшенный проект        газовая   паркет        NaN  Сдам на длительный срок (не агентство) комнату...              NaN    Советский район  нормальный ремонт  раздельный                NaN        NaN  длительный    есть         кирпичный  NaN           NaN              NaN                 NaN            4 / 5"
      ]
     },
     "execution_count": 2,
     "metadata": {},
     "output_type": "execute_result"
    }
   ],
   "source": [
    "#realt = pd.read_json('../parsing/realt_2212_12-30.json')\n",
    "#realt = pd.read_csv('../data/realt.csv')\n",
    "realt = pd.read_json('../parsing/realt_2712_13-30.json')\n",
    "print(\"Количество квартир: {}\".format(realt.shape[0]))\n",
    "realt.head(3)"
   ]
  },
  {
   "cell_type": "markdown",
   "metadata": {},
   "source": [
    "## Обработка датасета (часть 1)"
   ]
  },
  {
   "cell_type": "markdown",
   "metadata": {},
   "source": [
    "### Цена"
   ]
  },
  {
   "cell_type": "code",
   "execution_count": 3,
   "metadata": {},
   "outputs": [],
   "source": [
    "def get_realt_price(price):\n",
    "    \"\"\"\n",
    "    Убирает дробную часть в цене\n",
    "    \"\"\"\n",
    "    return int(''.join(re.findall(r'\\d+', re.sub(r'[,.]\\d+', ' ', price))))\n",
    "\n",
    "# Удаление записи без цены\n",
    "realt.drop(realt[realt['price_usa'] == 'Цена договорная'].index, inplace=True)\n",
    "\n",
    "# Исправление цены\n",
    "realt['price_usa'] = realt['price_usa'].apply(get_realt_price)\n",
    "realt['price_local'] = realt['price_local'].apply(get_realt_price)"
   ]
  },
  {
   "cell_type": "code",
   "execution_count": 4,
   "metadata": {},
   "outputs": [
    {
     "data": {
      "text/plain": [
       "<matplotlib.axes._subplots.AxesSubplot at 0x7fb1eca43438>"
      ]
     },
     "execution_count": 4,
     "metadata": {},
     "output_type": "execute_result"
    },
    {
     "data": {
      "image/png": "[encoded data removed]",
      "text/plain": [
       "<matplotlib.figure.Figure at 0x7fb1ecaa8d30>"
      ]
     },
     "metadata": {},
     "output_type": "display_data"
    }
   ],
   "source": [
    "realt['price_usa'].hist(bins=30)"
   ]
  },
  {
   "cell_type": "markdown",
   "metadata": {},
   "source": [
    "### Только Минск"
   ]
  },
  {
   "cell_type": "code",
   "execution_count": 5,
   "metadata": {},
   "outputs": [
    {
     "name": "stdout",
     "output_type": "stream",
     "text": [
      "Количество квартир только по Минску: 1982\n"
     ]
    },
    {
     "data": {
      "image/png": "[encoded data removed]",
      "text/plain": [
       "<matplotlib.figure.Figure at 0x7fb1eca9ff60>"
      ]
     },
     "metadata": {},
     "output_type": "display_data"
    }
   ],
   "source": [
    "# Только Минск\n",
    "realt = realt[realt['Населенный пункт'] == 'Минск']\n",
    "plt.scatter(realt['longitude'], realt['latitude'])\n",
    "\n",
    "realt.drop(realt[(realt['longitude'] > 27.8) | (realt['longitude'] < 27.3)].index, inplace=True)\n",
    "print(\"Количество квартир только по Минску: {}\".format(realt.shape[0]))"
   ]
  },
  {
   "cell_type": "markdown",
   "metadata": {},
   "source": [
    "### Убираем колонки с большим количеством пропусков"
   ]
  },
  {
   "cell_type": "code",
   "execution_count": 6,
   "metadata": {},
   "outputs": [],
   "source": [
    "drop_realt = ['УНП',\n",
    "             'Район (области)',\n",
    "             'Специалист',\n",
    "             'Число спальных мест',\n",
    "             'Направление',\n",
    "             'На Новый год',\n",
    "             'Вид этажа',\n",
    "             'Год кап.ремонта', #много пропусков\n",
    "             'Услуга агентства',\n",
    "             'Срок сдачи', #?\n",
    "             'Условия сдачи', #?\n",
    "             'Населенный пункт',\n",
    "             'Предоплата'\n",
    "             ]\n",
    "realt.drop(drop_realt, axis=1, inplace=True)"
   ]
  },
  {
   "cell_type": "markdown",
   "metadata": {},
   "source": [
    "### Вот что осталось"
   ]
  },
  {
   "cell_type": "code",
   "execution_count": 7,
   "metadata": {},
   "outputs": [
    {
     "data": {
      "text/plain": [
       "address                  0\n",
       "area                     0\n",
       "code                     0\n",
       "description              0\n",
       "floor                    0\n",
       "kv                       0\n",
       "latitude                 0\n",
       "longitude                0\n",
       "photos                 163\n",
       "price_local              0\n",
       "price_usa                0\n",
       "views_day                0\n",
       "views_week               0\n",
       "zones                    0\n",
       "Агентство             1228\n",
       "Балкон                 816\n",
       "Бытовая техника        770\n",
       "Год постройки          449\n",
       "Дата обновления          0\n",
       "Дополнительно          827\n",
       "Мебель                 197\n",
       "Метро                  463\n",
       "Планировка             366\n",
       "Плита                  967\n",
       "Полы                   414\n",
       "Примечания            1063\n",
       "Район города             0\n",
       "Ремонт                 253\n",
       "Сан/узел               728\n",
       "Соседи по квартире    1928\n",
       "Телефон                381\n",
       "Тип дома               335\n",
       "Этаж / этажность         8\n",
       "dtype: int64"
      ]
     },
     "execution_count": 7,
     "metadata": {},
     "output_type": "execute_result"
    }
   ],
   "source": [
    "realt.isnull().sum(axis=0)"
   ]
  },
  {
   "cell_type": "markdown",
   "metadata": {},
   "source": [
    "### Заполнение пропусков"
   ]
  },
  {
   "cell_type": "code",
   "execution_count": 8,
   "metadata": {},
   "outputs": [],
   "source": [
    "realt['description'].fillna('', inplace=True)\n",
    "realt['Дополнительно'].fillna('', inplace=True)\n",
    "realt['Примечания'].fillna('', inplace=True)\n",
    "realt['photos'].fillna(0, inplace=True)\n",
    "realt['Агентство'].fillna(\"нет\", inplace=True)\n",
    "realt['Балкон'].fillna(\"нет\", inplace=True)\n",
    "realt['Бытовая техника'].fillna('', inplace=True)\n",
    "realt['Телефон'].fillna('нет', inplace=True)\n",
    "realt['Мебель'].fillna('нет', inplace=True)\n",
    "realt['Метро'].fillna('нет', inplace=True)\n",
    "realt['Плита'].fillna('Пропуск', inplace=True)\n",
    "realt['Ремонт'].fillna('Пропуск', inplace=True)\n",
    "realt['Этаж / этажность'].fillna('0 / 0', inplace=True)\n",
    "realt['Соседи по квартире'].fillna('нет', inplace=True)"
   ]
  },
  {
   "cell_type": "markdown",
   "metadata": {},
   "source": [
    "#### Соседи по квартире"
   ]
  },
  {
   "cell_type": "code",
   "execution_count": 9,
   "metadata": {},
   "outputs": [],
   "source": [
    "realt.drop(realt[realt['Соседи по квартире'] != 'нет'].index, inplace=True)"
   ]
  },
  {
   "cell_type": "markdown",
   "metadata": {},
   "source": [
    "#### Количество комнат"
   ]
  },
  {
   "cell_type": "code",
   "execution_count": 10,
   "metadata": {},
   "outputs": [],
   "source": [
    "# кол-во комнат (0 - комната)\n",
    "realt['rooms'] = realt['kv'].apply(lambda kv: 0 if kv.split('/')[0]==' к' else int(kv.split('/')[0]))"
   ]
  },
  {
   "cell_type": "markdown",
   "metadata": {},
   "source": [
    "#### Площадь"
   ]
  },
  {
   "cell_type": "code",
   "execution_count": 11,
   "metadata": {},
   "outputs": [
    {
     "name": "stdout",
     "output_type": "stream",
     "text": [
      "Количество квартир сдаваемых в Минске: 1899\n"
     ]
    }
   ],
   "source": [
    "# площадь \n",
    "realt['total_area'] = realt['area'].apply(lambda area: int(''.join(re.findall(r'\\w+', area.split('/')[0]))))\n",
    "realt['living_area'] = realt['area'].apply(lambda area: int(area.split('/')[1]))\n",
    "realt['kitchen_area'] = realt['area'].apply(lambda area: int(area.split('/')[2])) # 0 - это пропуск\n",
    "\n",
    "# Замена нулей в общей площади на медианную площадь для квартир с таким же кол-вом комнат\n",
    "for area in ['total_area', 'living_area', 'kitchen_area']:\n",
    "    realt.loc[realt[(realt[area]==0)].index, area] = realt[(realt[area]==0)].merge(\n",
    "        realt.groupby(by='rooms').agg(\n",
    "            [np.mean, np.min, np.max, np.median]\n",
    "        )[area].reset_index(),\n",
    "        on='rooms'\n",
    "    )['median']\n",
    "\n",
    "# Убираем обьявления по комнатам и коттеджам\n",
    "realt = realt[(realt['total_area']<=300) &(realt['rooms']!=0)]\n",
    "print(\"Количество квартир сдаваемых в Минске: {}\".format(realt.shape[0]))"
   ]
  },
  {
   "cell_type": "markdown",
   "metadata": {},
   "source": [
    "#### Балкон"
   ]
  },
  {
   "cell_type": "code",
   "execution_count": 12,
   "metadata": {},
   "outputs": [],
   "source": [
    "def get_numb_balcony(text):\n",
    "    if text == 'нет':\n",
    "        return 0\n",
    "    elif text.split()[0] in ['лоджия', 'балкон']:\n",
    "        return 1\n",
    "    else:\n",
    "        return 2\n",
    "realt['Балкон'] = realt['Балкон'].apply(get_numb_balcony)"
   ]
  },
  {
   "cell_type": "markdown",
   "metadata": {},
   "source": [
    "#### Мебель"
   ]
  },
  {
   "cell_type": "code",
   "execution_count": 13,
   "metadata": {},
   "outputs": [],
   "source": [
    "# мебель (частично -> нет)\n",
    "realt['Мебель'].replace('частично', 'нет', inplace=True)\n",
    "realt['Мебель'] = realt['Мебель'].apply(lambda furniture: 0 if furniture == 'нет' else 1)"
   ]
  },
  {
   "cell_type": "markdown",
   "metadata": {},
   "source": [
    "#### Телефон"
   ]
  },
  {
   "cell_type": "code",
   "execution_count": 14,
   "metadata": {},
   "outputs": [],
   "source": [
    "# телефон\n",
    "realt['Телефон'].replace({'нет': 0,\n",
    "                          'есть': 1,\n",
    "                          '2 телефона': 2}, inplace=True)"
   ]
  },
  {
   "cell_type": "markdown",
   "metadata": {},
   "source": [
    "#### Плита"
   ]
  },
  {
   "cell_type": "code",
   "execution_count": 15,
   "metadata": {},
   "outputs": [],
   "source": [
    "# Плита: Пропуск -> электрическая\n",
    "realt['Плита'].replace('Пропуск', 'электрическая', inplace=True)\n",
    "realt['Плита'] = realt['Плита'].apply(lambda plate: 0 if plate == 'газовая' else 1)"
   ]
  },
  {
   "cell_type": "markdown",
   "metadata": {},
   "source": [
    "#### Ремонт"
   ]
  },
  {
   "cell_type": "code",
   "execution_count": 16,
   "metadata": {},
   "outputs": [
    {
     "data": {
      "text/plain": [
       "<matplotlib.axes._subplots.AxesSubplot at 0x7fb1ec9b7518>"
      ]
     },
     "execution_count": 16,
     "metadata": {},
     "output_type": "execute_result"
    },
    {
     "data": {
      "image/png": "[encoded data removed]",
      "text/plain": [
       "<matplotlib.figure.Figure at 0x7fb1ecaa8898>"
      ]
     },
     "metadata": {},
     "output_type": "display_data"
    }
   ],
   "source": [
    "# Ремонт:  хороший ремонт (1) и без ремонта (0). \n",
    "realt['Ремонт']=realt['Ремонт'].replace({'Пропуск': 1,\n",
    "                         'отличный ремонт': 1,\n",
    "                         'евроремонт': 1,\n",
    "                         'без отделки': 0,\n",
    "                         'строительная отделка': 0,\n",
    "                         'удовлетворительный ремонт': 0,\n",
    "                         'нормальный ремонт': 0,\n",
    "                         'без отделки': 0,\n",
    "                         'плохое состояние': 0,\n",
    "                         'хороший ремонт': 0})\n",
    "sns.violinplot('Ремонт', 'price_usa', data=realt)"
   ]
  },
  {
   "cell_type": "markdown",
   "metadata": {},
   "source": [
    "#### Этаж / этажность"
   ]
  },
  {
   "cell_type": "code",
   "execution_count": 17,
   "metadata": {},
   "outputs": [],
   "source": [
    "def get_floor_features(text):\n",
    "    \"\"\"\n",
    "    Возвращает (этаж, этажность)\n",
    "    0 - пропуск (как вариант, пропуск этажности можно заменить на этаж)\n",
    "    \"\"\"\n",
    "    items = re.findall(r'\\w+', text)\n",
    "    if items[-1] in {'этажей', 'этажа'}:\n",
    "        return (0, int(items[0]))\n",
    "    elif items[-1] == 'этаж':\n",
    "        return (int(items[0]), 0)\n",
    "    else:\n",
    "        return (int(items[0]), int(items[1]))\n",
    "    \n",
    "# Этаж / этажность\n",
    "realt['floor'] = realt['Этаж / этажность'].apply(lambda f: get_floor_features(f)[0])\n",
    "realt['floors'] = realt['Этаж / этажность'].apply(lambda f: get_floor_features(f)[1])\n",
    "\n",
    "# Замена пропуска в этажности на этаж\n",
    "realt['floors'].replace(0, realt['floor'], inplace=True)"
   ]
  },
  {
   "cell_type": "markdown",
   "metadata": {},
   "source": [
    "#### Агентство"
   ]
  },
  {
   "cell_type": "code",
   "execution_count": 18,
   "metadata": {},
   "outputs": [],
   "source": [
    "# Агентство\n",
    "realt['Агентство'] = realt['Агентство'].apply(lambda agent: 0 if agent=='нет' else 1)"
   ]
  },
  {
   "cell_type": "code",
   "execution_count": null,
   "metadata": {},
   "outputs": [],
   "source": []
  },
  {
   "cell_type": "markdown",
   "metadata": {},
   "source": [
    "#### Планировка"
   ]
  },
  {
   "cell_type": "code",
   "execution_count": 19,
   "metadata": {},
   "outputs": [
    {
     "data": {
      "text/plain": [
       "array([nan, 'новостройка', 'брежневка', 'хрущевка', 'улучшенный проект',\n",
       "       'стандартный проект', 'сталинка', 'малосемейка', 'чешский проект',\n",
       "       'бреж', 'чеш.', 'пентхаус', 'стал', 'таунхаус'], dtype=object)"
      ]
     },
     "execution_count": 19,
     "metadata": {},
     "output_type": "execute_result"
    }
   ],
   "source": [
    "realt['Планировка'].unique()"
   ]
  },
  {
   "cell_type": "code",
   "execution_count": 20,
   "metadata": {},
   "outputs": [
    {
     "data": {
      "text/plain": [
       "<matplotlib.axes._subplots.AxesSubplot at 0x7fb1ec97f400>"
      ]
     },
     "execution_count": 20,
     "metadata": {},
     "output_type": "execute_result"
    },
    {
     "data": {
      "image/png": "[encoded data removed]",
      "text/plain": [
       "<matplotlib.figure.Figure at 0x7fb1ec9eb5c0>"
      ]
     },
     "metadata": {},
     "output_type": "display_data"
    }
   ],
   "source": [
    "realt['Планировка'].fillna('Пропуск', inplace=True)\n",
    "realt['plan_proc'] = realt['Планировка'].replace({'бреж': 'брежневка',\n",
    "                             'стал': 'сталинка',\n",
    "                             'чеш.': 'чешский проект',\n",
    "                             'таунхаус': 'Пропуск',\n",
    "                            'пентхаус': 'Пропуск',\n",
    "                            })\n",
    "sns.violinplot('plan_proc', 'price_usa', data=realt)"
   ]
  },
  {
   "cell_type": "code",
   "execution_count": 21,
   "metadata": {},
   "outputs": [
    {
     "data": {
      "text/plain": [
       "<matplotlib.axes._subplots.AxesSubplot at 0x7fb1ec82d0f0>"
      ]
     },
     "execution_count": 21,
     "metadata": {},
     "output_type": "execute_result"
    },
    {
     "data": {
      "image/png": "[encoded data removed]",
      "text/plain": [
       "<matplotlib.figure.Figure at 0x7fb1eca2a6a0>"
      ]
     },
     "metadata": {},
     "output_type": "display_data"
    }
   ],
   "source": [
    "# 0 - так себе\n",
    "# 1 - норм\n",
    "plan_union = {'брежневка':0,\n",
    "              'стандартный проект':0,\n",
    "              'хрущевка':0,\n",
    "              'малосемейка': 0,\n",
    "              'чешский проект':0,\n",
    "              'сталинка':1,\n",
    "              'новостройка': 1,\n",
    "              'улучшенный проект':1,\n",
    "              'Пропуск':1,\n",
    "              }\n",
    "realt['plan_proc']=realt['Планировка'].map(plan_union)\n",
    "realt['plan_proc'].fillna(0, inplace=True)\n",
    "sns.violinplot('plan_proc', 'price_usa', data=realt)"
   ]
  },
  {
   "cell_type": "markdown",
   "metadata": {},
   "source": [
    "#### Тип дома"
   ]
  },
  {
   "cell_type": "code",
   "execution_count": 22,
   "metadata": {},
   "outputs": [
    {
     "data": {
      "text/plain": [
       "array([nan, 'панельный', 'кирпичный', 'монолитный', 'каркасно-блочный',\n",
       "       'кб', 'монолитно-каркасный', 'блок-комнаты', 'сб', 'КБ', 'бр'], dtype=object)"
      ]
     },
     "execution_count": 22,
     "metadata": {},
     "output_type": "execute_result"
    }
   ],
   "source": [
    "realt['Тип дома'].unique()"
   ]
  },
  {
   "cell_type": "code",
   "execution_count": 23,
   "metadata": {},
   "outputs": [
    {
     "data": {
      "text/plain": [
       "<matplotlib.axes._subplots.AxesSubplot at 0x7fb1ec8a15c0>"
      ]
     },
     "execution_count": 23,
     "metadata": {},
     "output_type": "execute_result"
    },
    {
     "data": {
      "image/png": "[encoded data removed]",
      "text/plain": [
       "<matplotlib.figure.Figure at 0x7fb1eca76cc0>"
      ]
     },
     "metadata": {},
     "output_type": "display_data"
    }
   ],
   "source": [
    "realt['Тип дома'].fillna('Пропуск', inplace=True)\n",
    "realt['Тип дома'].replace({'кб': 'каркасно-блочный',\n",
    "                           'КБ': 'каркасно-блочный',\n",
    "                           'сб': 'Пропуск',\n",
    "                           'бр': 'Пропуск',\n",
    "                           'монолитно-каркасный': 'монолитный'\n",
    "                            }, inplace=True)\n",
    "\n",
    "sns.violinplot('Тип дома', 'price_usa', data=realt)"
   ]
  },
  {
   "cell_type": "code",
   "execution_count": 24,
   "metadata": {},
   "outputs": [
    {
     "data": {
      "text/plain": [
       "<matplotlib.axes._subplots.AxesSubplot at 0x7fb1ec7d2518>"
      ]
     },
     "execution_count": 24,
     "metadata": {},
     "output_type": "execute_result"
    },
    {
     "data": {
      "image/png": "[encoded data removed]",
      "text/plain": [
       "<matplotlib.figure.Figure at 0x7fb1ec918e48>"
      ]
     },
     "metadata": {},
     "output_type": "display_data"
    }
   ],
   "source": [
    "# панельный / не панельный\n",
    "realt['panel_type'] = realt['Тип дома'].apply(lambda t: 1 if t == 'панельный' else 0)\n",
    "sns.violinplot('panel_type', 'price_usa', data=realt)"
   ]
  },
  {
   "cell_type": "markdown",
   "metadata": {},
   "source": [
    "#### Год постройки"
   ]
  },
  {
   "cell_type": "code",
   "execution_count": 25,
   "metadata": {},
   "outputs": [],
   "source": [
    "# Если по этому же адресу есть еще обьявление с указанием года постройки, то он проставится и этому обьявлению\n",
    "house_year = realt[~pd.isnull(realt['Год постройки'])][['address', 'Год постройки']].groupby(by='address').mean().reset_index()\n",
    "house_year.set_index('address', inplace=True)\n",
    "realt.set_index('address', inplace=True)\n",
    "realt['Год постройки'] = realt['Год постройки'].fillna(value=house_year['Год постройки'])\n",
    "realt.reset_index(inplace=True)\n",
    "\n",
    "#Нужно доработать\n",
    "realt['Год постройки'] = realt['Год постройки'].fillna(value= realt['Планировка'].apply(\n",
    "                                                                     lambda x:realt[realt['Планировка']==x].groupby(\n",
    "                                                                         by='Планировка')['Год постройки'].median().values[0] ))"
   ]
  },
  {
   "cell_type": "code",
   "execution_count": null,
   "metadata": {},
   "outputs": [],
   "source": []
  },
  {
   "cell_type": "markdown",
   "metadata": {},
   "source": [
    "#### Сан/узел"
   ]
  },
  {
   "cell_type": "code",
   "execution_count": 26,
   "metadata": {},
   "outputs": [],
   "source": [
    "realt['Сан/узел'].fillna(1, inplace=True)\n",
    "realt['Сан/узел'].replace({'раздельный': 1,\n",
    "                           'совмещенный': 1,\n",
    "                           '2 сан/узла': 2,\n",
    "                           '3 сан/узла': 3\n",
    "                            }, inplace=True)"
   ]
  },
  {
   "cell_type": "markdown",
   "metadata": {},
   "source": [
    "#### Photos"
   ]
  },
  {
   "cell_type": "code",
   "execution_count": 27,
   "metadata": {},
   "outputs": [
    {
     "data": {
      "text/plain": [
       "<matplotlib.collections.PathCollection at 0x7fb1ec7a70f0>"
      ]
     },
     "execution_count": 27,
     "metadata": {},
     "output_type": "execute_result"
    },
    {
     "data": {
      "image/png": "[encoded data removed]",
      "text/plain": [
       "<matplotlib.figure.Figure at 0x7fb1ec9972e8>"
      ]
     },
     "metadata": {},
     "output_type": "display_data"
    }
   ],
   "source": [
    "plt.scatter(realt['photos'], realt['price_usa'])"
   ]
  },
  {
   "cell_type": "code",
   "execution_count": 28,
   "metadata": {},
   "outputs": [],
   "source": [
    "realt['photos_proc'] = realt['photos'].clip(0, 25)"
   ]
  },
  {
   "cell_type": "markdown",
   "metadata": {},
   "source": [
    "#### Линия метро"
   ]
  },
  {
   "cell_type": "raw",
   "metadata": {},
   "source": [
    "import sys\n",
    "sys.path.append('..')\n",
    "from helpers.undeground.extractor import get_stations\n",
    "\n",
    "stations = get_stations()\n",
    "\n",
    "for line in stations:\n",
    "    stations[line] = list(map(lambda row: row['name'], stations[line]))\n",
    "\n",
    "realt['Линия метро'] = realt['Метро'].apply(lambda station: 'red' if station in stations['red'] else 'blue')"
   ]
  },
  {
   "cell_type": "code",
   "execution_count": null,
   "metadata": {},
   "outputs": [],
   "source": []
  },
  {
   "cell_type": "markdown",
   "metadata": {},
   "source": [
    "### Бытовая техника из описания"
   ]
  },
  {
   "cell_type": "code",
   "execution_count": 29,
   "metadata": {},
   "outputs": [
    {
     "name": "stdout",
     "output_type": "stream",
     "text": [
      "['', 'свч-печь', 'холодильник', 'видеомагнитофон', 'душевая кабина', 'DVD-проигрыватель', 'домашний кинотеатр', 'посудомоечная машина', 'стиральная машина', 'компьютерная сеть', 'музыкальный центр', 'высокоскоростной интернет', 'компьютер', 'джакузи', 'посуда', 'выделенная линия в интернет', 'интернет', 'кондиционер', 'мелкая бытовая техника', 'телевизор']\n"
     ]
    }
   ],
   "source": [
    "# Какая техника вообще есть\n",
    "tech_set = set()\n",
    "for descr in realt['Бытовая техника']:\n",
    "    tech_set.update(descr.split(', '))\n",
    "print(list(tech_set))"
   ]
  },
  {
   "cell_type": "code",
   "execution_count": 30,
   "metadata": {},
   "outputs": [],
   "source": [
    "def get_tech_from_descr(text):\n",
    "    \"\"\"\n",
    "    Извлекает бытовую технику из описания\n",
    "    (мб можно проще)\n",
    "    \"\"\"\n",
    "    result = []\n",
    "    text = text.lower()\n",
    "    if 'душевая' in text:\n",
    "        result.append('душевая кабина')\n",
    "    if 'интернет' in text:\n",
    "        result.append('интернет')\n",
    "    if 'музыкальный центр' in text:\n",
    "        result.append('музыкальный центр')\n",
    "    if 'dvd' in text:\n",
    "        result.append('DVD-проигрыватель')\n",
    "    if 'кондиционер' in text:\n",
    "        result.append('кондиционер')\n",
    "    if 'посудомоечная' in text: \n",
    "        result.append('посудомоечная машина')\n",
    "    if 'джакузи' in text:\n",
    "        result.append('джакузи')\n",
    "    if any(tv in text for tv in ['телевизор', 'тв', 'телик']):\n",
    "        result.append('телевизор')\n",
    "    if 'свч' in text:\n",
    "        result.append('свч-печь')\n",
    "    if 'холодильник' in text:\n",
    "        result.append('холодильник')\n",
    "    if 'компьютер' in text:\n",
    "        result.append('компьютер')\n",
    "    if 'видеомагнитофон' in text:\n",
    "        result.append('видеомагнитофон')\n",
    "    if 'домашний кинотеатр' in text:\n",
    "        result.append('домашний кинотеатр')\n",
    "    if 'стиральная' in text:\n",
    "        result.append('стиральная машина')\n",
    "    return ', '.join(result)"
   ]
  },
  {
   "cell_type": "code",
   "execution_count": 31,
   "metadata": {},
   "outputs": [
    {
     "name": "stdout",
     "output_type": "stream",
     "text": [
      "Кол-во пропусков до замены: 577\n",
      "Кол-во пропусков после замены: 148\n"
     ]
    }
   ],
   "source": [
    "# Кол-во пропусков для записей с описанием (description)\n",
    "print(\"Кол-во пропусков до замены: {}\".format(realt[(realt.description != '') & (realt['Бытовая техника'] == '')].shape[0]))\n",
    "realt.loc[(realt.description != '') & (realt['Бытовая техника'] == ''), 'Бытовая техника'] = realt.loc[(realt.description != '') & (realt['Бытовая техника'] == ''), 'description'].apply(get_tech_from_descr)\n",
    "print(\"Кол-во пропусков после замены: {}\".format(realt[(realt.description != '') & (realt['Бытовая техника'] == '')].shape[0]))"
   ]
  },
  {
   "cell_type": "markdown",
   "metadata": {},
   "source": [
    "### \"Дополнительно\" из описания"
   ]
  },
  {
   "cell_type": "code",
   "execution_count": 32,
   "metadata": {},
   "outputs": [
    {
     "name": "stdout",
     "output_type": "stream",
     "text": [
      "{'', 'гараж', 'видео-домофон', 'рядом магазин', 'элитная квартира', 'домофон', 'лифт', 'благоустроенный двор', 'парковка', 'сигнализация', 'окна во двор', 'встроенные шкафы', 'стеклопакеты', 'хороший вид из окна', 'VIP-квартира', 'видеодомофон', 'рядом рынок', 'рядом зеленая зона отдыха', 'рядом зеленая зона', 'охраняемая территория', 'рядом спортивный центр', 'консьержка', 'подземный гараж', 'металлическая дверь', 'встроеные шкафы', 'рядом гипермаркет', 'рядом супермаркет', 'детская площадка'}\n"
     ]
    }
   ],
   "source": [
    "# Какое \"дополнительно\" вообще есть\n",
    "dop_set = set()\n",
    "for descr in realt['Дополнительно']:\n",
    "    dop_set.update(descr.split(', '))\n",
    "print(dop_set)"
   ]
  },
  {
   "cell_type": "code",
   "execution_count": 33,
   "metadata": {},
   "outputs": [],
   "source": [
    "def get_dop_from_descr(text):\n",
    "    \"\"\"\n",
    "    Извлекает \"дополнительно\" из описания\n",
    "    (мб можно проще)\n",
    "    \"\"\"\n",
    "    result = []\n",
    "    text = text.lower()\n",
    "    if any(door in text for door in ['металлическая дверь', 'металическая дверь']):\n",
    "        result.append('металлическая дверь')\n",
    "    if 'рядом зеленая зона' in text:\n",
    "        result.append('рядом зеленая зона')\n",
    "    if any(vid_dom in text for vid_dom in ['видеодомофон', 'видео-домофон']):\n",
    "        result.append('видеодомофон')\n",
    "    if any(yard in text for yard in ['благоустроенный двор', 'благоустроеный двор']):\n",
    "        result.append('благоустроенный двор')\n",
    "    if 'лифт' in text:\n",
    "        result.append('лифт')\n",
    "    if any(garage in text for garage in ['гараж', 'подземный гараж']):\n",
    "        result.append('гараж')\n",
    "    if 'парковка' in text:\n",
    "        result.append('парковка')\n",
    "    if 'магазин' in text:\n",
    "        result.append('рядом магазин')\n",
    "    if 'детская площадка' in text:\n",
    "        result.append('детская площадка')\n",
    "    if 'спортивный центр' in text:\n",
    "        result.append('рядом спортивный центр')\n",
    "    if any(guard_zone in text for guard_zone in ['охраняемая территория', 'охраняемая територия']):\n",
    "        result.append('охраняемая территория')\n",
    "    if 'сигнализация' in text:\n",
    "        result.append('сигнализация')\n",
    "    if 'гипермаркет' in text:\n",
    "        result.append('рядом гипермаркет')\n",
    "    if 'стеклопакеты' in text:\n",
    "        result.append('стеклопакеты')\n",
    "    if any(wardrobe in text for wardrobe in ['встроенные шкафы', 'встроеные шкафы']):\n",
    "        result.append('встроенные шкафы')\n",
    "    if 'хороший вид из окна' in text:\n",
    "        result.append('хороший вид из окна')\n",
    "    if 'консьержка' in text:\n",
    "        result.append('консьержка')\n",
    "    if 'супермаркет' in text:\n",
    "        result.append('рядом супермаркет')\n",
    "    if 'домофон' in text:\n",
    "        result.append('домофон')\n",
    "    if 'рынок' in text:\n",
    "        result.append('рядом рынок')\n",
    "    if 'супермаркет' in text:\n",
    "        result.append('рядом супермаркет')\n",
    "    if any(wardrobe in text for wardrobe in ['элитная квартира', 'vip']):\n",
    "        result.append('VIP-квартира')\n",
    "    return ', '.join(result)"
   ]
  },
  {
   "cell_type": "code",
   "execution_count": 34,
   "metadata": {},
   "outputs": [
    {
     "name": "stdout",
     "output_type": "stream",
     "text": [
      "Кол-во пропусков до замены: 579\n",
      "Кол-во пропусков до замены: 276\n"
     ]
    }
   ],
   "source": [
    "# Кол-во пропусков для записей с описанием (description)\n",
    "print(\"Кол-во пропусков до замены: {}\".format(realt[(realt.description != '') & (realt['Дополнительно'] == '')].shape[0]))\n",
    "realt.loc[(realt.description != '') & (realt['Дополнительно'] == ''), 'Дополнительно'] = realt.loc[(realt.description != '') & (realt['Дополнительно'] == ''), 'description'].apply(get_dop_from_descr)\n",
    "print(\"Кол-во пропусков до замены: {}\".format(realt[(realt.description != '') & (realt['Дополнительно'] == '')].shape[0]))"
   ]
  },
  {
   "cell_type": "markdown",
   "metadata": {},
   "source": [
    "### Извлечение микрорайонов"
   ]
  },
  {
   "cell_type": "raw",
   "metadata": {},
   "source": [
    "import geopandas as gpd\n",
    "from geopy.distance import vincenty\n",
    "# Это из openstreetmap\n",
    "places = gpd.read_file('../data/geojson/minsk_belarus_places.geojson')\n",
    "\n",
    "suburbs = places[places['type'] == 'suburb']\n",
    "for i in realt.index:\n",
    "    first_point = realt.loc[i, ['latitude', 'longitude']]\n",
    "    min_dist = suburbs['geometry'].apply(lambda coord: vincenty(first_point, (coord.y, coord.x)).m).agg(('argmin', 'min'))\n",
    "    realt.at[i, 'Микрорайон'] = suburbs.loc[min_dist['argmin'], 'name']\n",
    "    #realt.at[i, 'Расст до района'] = min_dist['min']"
   ]
  },
  {
   "cell_type": "code",
   "execution_count": null,
   "metadata": {},
   "outputs": [],
   "source": []
  },
  {
   "cell_type": "code",
   "execution_count": 35,
   "metadata": {},
   "outputs": [],
   "source": [
    "\n",
    "realt.drop(['area',\n",
    "            'Этаж / этажность',\n",
    "            'kv'], axis=1, inplace=True)\n",
    "\n",
    "realt['living_area'].fillna(realt['living_area'].median(), inplace=True)\n",
    "realt['kitchen_area'].fillna(realt['kitchen_area'].median(), inplace=True)"
   ]
  },
  {
   "cell_type": "code",
   "execution_count": null,
   "metadata": {},
   "outputs": [],
   "source": []
  },
  {
   "cell_type": "markdown",
   "metadata": {},
   "source": [
    "### Метро (ближайшее и расстояние)"
   ]
  },
  {
   "cell_type": "code",
   "execution_count": 36,
   "metadata": {},
   "outputs": [],
   "source": [
    "metro = gpd.read_file('../data/minsk_belarus.imposm-geojson/minsk_belarus_transport_points.geojson')"
   ]
  },
  {
   "cell_type": "code",
   "execution_count": 37,
   "metadata": {},
   "outputs": [],
   "source": [
    "# чтобы проще было метро доставать\n",
    "metro.loc[metro['name'] == 'Трактарны завод', 'ref'] = 213\n",
    "metro.loc[metro['name'] == 'Аўтазаводская', 'ref'] = 211\n",
    "metro.loc[metro['name'] == 'Няміга', 'ref'] = 217\n",
    "metro.loc[metro['name'] == 'Першамайская', 'ref'] = 215\n",
    "metro.loc[metro['name'] == 'Пралетарская', 'ref'] = 214\n",
    "metro.loc[metro['name'] == 'Спартыўная', 'ref'] = 221\n",
    "metro.loc[metro['name'] == 'Магілёўская', 'ref'] = 210\n",
    "metro.loc[metro['name'] == 'Пушкінская', 'ref'] = 220\n",
    "metro.loc[metro['name'] == 'Партызанская', 'ref'] = 212\n",
    "metro.loc[metro['name'] == 'Маладзёжная', 'ref'] = 219\n",
    "metro.loc[metro['name'] == 'Купалаўская', 'ref'] = 216\n",
    "metro.loc[metro['name'] == 'Фрунзенская', 'ref'] = 218"
   ]
  },
  {
   "cell_type": "code",
   "execution_count": 38,
   "metadata": {},
   "outputs": [
    {
     "data": {
      "application/vnd.jupyter.widget-view+json": {
       "model_id": "d47b53911d57485c9064450960d92a77",
       "version_major": 2,
       "version_minor": 0
      },
      "text/html": [
       "<p>Failed to display Jupyter Widget of type <code>HBox</code>.</p>\n",
       "<p>\n",
       "  If you're reading this message in the Jupyter Notebook or JupyterLab Notebook, it may mean\n",
       "  that the widgets JavaScript is still loading. If this message persists, it\n",
       "  likely means that the widgets JavaScript library is either not installed or\n",
       "  not enabled. See the <a href=\"https://ipywidgets.readthedocs.io/en/stable/user_install.html\">Jupyter\n",
       "  Widgets Documentation</a> for setup instructions.\n",
       "</p>\n",
       "<p>\n",
       "  If you're reading this message in another frontend (for example, a static\n",
       "  rendering on GitHub or <a href=\"https://nbviewer.jupyter.org/\">NBViewer</a>),\n",
       "  it may mean that your frontend doesn't currently support widgets.\n",
       "</p>\n"
      ],
      "text/plain": [
       "HBox(children=(IntProgress(value=0, max=1899), HTML(value='')))"
      ]
     },
     "metadata": {},
     "output_type": "display_data"
    },
    {
     "name": "stdout",
     "output_type": "stream",
     "text": [
      "\n"
     ]
    }
   ],
   "source": [
    "metro = metro[(metro['type'] == 'station') & (metro['ref'] != '')] # только метро\n",
    "for i in tqdm_notebook(realt.index):\n",
    "    first_point = realt.loc[i, ['latitude', 'longitude']]\n",
    "    min_dist = metro['geometry'].apply(lambda coord: vincenty(first_point, (coord.y, coord.x)).m).agg(('argmin', 'min'))\n",
    "    realt.at[i, 'Ближайшее метро'] = metro.loc[min_dist['argmin'], 'name']\n",
    "    realt.at[i, 'До метро'] = min_dist['min']"
   ]
  },
  {
   "cell_type": "markdown",
   "metadata": {},
   "source": [
    "### До центра"
   ]
  },
  {
   "cell_type": "code",
   "execution_count": null,
   "metadata": {},
   "outputs": [],
   "source": []
  },
  {
   "cell_type": "code",
   "execution_count": 39,
   "metadata": {},
   "outputs": [],
   "source": [
    "center = (53.902496, 27.561481) # Октябрьская площадь\n",
    "for i in realt.index:\n",
    "    first_point = realt.loc[i, ['latitude', 'longitude']]\n",
    "    realt.at[i, 'До центра'] = vincenty(first_point, (center[0], center[1])).m"
   ]
  },
  {
   "cell_type": "markdown",
   "metadata": {},
   "source": [
    "### Сохранение"
   ]
  },
  {
   "cell_type": "code",
   "execution_count": 40,
   "metadata": {},
   "outputs": [],
   "source": [
    "realt.to_csv('../data/realt_2712_13-30.csv', index=False)\n",
    "#realt.to_csv('../data/realt_lite_final.csv', index=False)"
   ]
  },
  {
   "cell_type": "code",
   "execution_count": null,
   "metadata": {},
   "outputs": [],
   "source": []
  }
 ],
 "metadata": {
  "kernelspec": {
   "display_name": "Python(ML)",
   "language": "python",
   "name": "mlenv"
  },
  "language_info": {
   "codemirror_mode": {
    "name": "ipython",
    "version": 3
   },
   "file_extension": ".py",
   "mimetype": "text/x-python",
   "name": "python",
   "nbconvert_exporter": "python",
   "pygments_lexer": "ipython3",
   "version": "3.6.3"
  }
 },
 "nbformat": 4,
 "nbformat_minor": 1
}
