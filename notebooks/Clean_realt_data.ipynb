{
 "cells": [
  {
   "cell_type": "code",
   "execution_count": 1,
   "metadata": {},
   "outputs": [],
   "source": [
    "import re\n",
    "import json\n",
    "\n",
    "import numpy as np\n",
    "import pandas as pd\n",
    "\n",
    "import matplotlib.pyplot as plt\n",
    "import seaborn as sns\n",
    "%matplotlib inline\n",
    "\n",
    "from sklearn import linear_model\n",
    "from sklearn import preprocessing\n",
    "from sklearn.ensemble import RandomForestRegressor\n",
    "from sklearn.model_selection import cross_val_score\n",
    "from sklearn.model_selection import train_test_split\n",
    "from sklearn.metrics import mean_absolute_error, mean_squared_error, r2_score\n",
    "\n",
    "pd.set_option('display.max_rows', 500)\n",
    "pd.set_option('display.max_columns', 500)\n",
    "pd.set_option('display.width', 1000)\n",
    "\n",
    "plt.rcParams['figure.figsize']=(12,6)"
   ]
  },
  {
   "cell_type": "code",
   "execution_count": 2,
   "metadata": {},
   "outputs": [],
   "source": [
    "#realt = pd.read_csv('../data/realt.csv')\n",
    "realt = pd.read_json('../parsing/realt_1612.json')\n",
    "\n",
    "def get_realt_price(price):\n",
    "    \"\"\"\n",
    "    Убирает дробную часть в цене\n",
    "    \"\"\"\n",
    "    return int(''.join(re.findall(r'\\d+', re.sub(r'[,.]\\d+', ' ', price))))\n",
    "\n",
    "# Удаление записи без цены\n",
    "realt.drop(realt[realt['price_usa'] == 'Цена договорная'].index, inplace=True)\n",
    "\n",
    "# Только Минск\n",
    "realt = realt[realt['Населенный пункт'] == 'Минск']\n",
    "\n",
    "# Исправление цены\n",
    "realt['price_usa'] = realt['price_usa'].apply(get_realt_price)\n",
    "realt['price_local'] = realt['price_local'].apply(get_realt_price)\n",
    "\n",
    "realt.drop(realt[(realt['longitude'] > 27.8) | (realt['longitude'] < 27.3)].index, inplace=True)\n",
    "\n",
    "drop_realt = ['УНП',\n",
    "             'Район (области)',\n",
    "             'Специалист',\n",
    "             'Число спальных мест',\n",
    "             'Направление',\n",
    "             'На Новый год',\n",
    "             'Вид этажа',\n",
    "             'Год кап.ремонта', #много пропусков\n",
    "             'Услуга агентства',\n",
    "             'Срок сдачи', #?\n",
    "             'Условия сдачи', #?\n",
    "             'Населенный пункт',\n",
    "             'Предоплата'\n",
    "             ]\n",
    "\n",
    "realt.drop(drop_realt, axis=1, inplace=True)"
   ]
  },
  {
   "cell_type": "code",
   "execution_count": 3,
   "metadata": {},
   "outputs": [
    {
     "data": {
      "text/plain": [
       "address                  0\n",
       "area                     0\n",
       "code                     0\n",
       "description              0\n",
       "floor                    0\n",
       "kv                       0\n",
       "latitude                 0\n",
       "longitude                0\n",
       "photos                 160\n",
       "price_local              0\n",
       "price_usa                0\n",
       "views_day                0\n",
       "views_week               0\n",
       "zones                    0\n",
       "Агентство             1259\n",
       "Балкон                 806\n",
       "Бытовая техника        777\n",
       "Год постройки          449\n",
       "Дата обновления          0\n",
       "Дополнительно          829\n",
       "Мебель                 186\n",
       "Метро                  472\n",
       "Планировка             361\n",
       "Плита                  975\n",
       "Полы                   414\n",
       "Примечания            1062\n",
       "Район города             0\n",
       "Ремонт                 259\n",
       "Сан/узел               725\n",
       "Соседи по квартире    1953\n",
       "Телефон                377\n",
       "Тип дома               332\n",
       "Этаж / этажность        12\n",
       "dtype: int64"
      ]
     },
     "execution_count": 3,
     "metadata": {},
     "output_type": "execute_result"
    }
   ],
   "source": [
    "realt.isnull().sum(axis=0)"
   ]
  },
  {
   "cell_type": "code",
   "execution_count": 4,
   "metadata": {},
   "outputs": [],
   "source": [
    "realt['description'].fillna('', inplace=True)\n",
    "realt['Дополнительно'].fillna('', inplace=True)\n",
    "realt['Примечания'].fillna('', inplace=True)\n",
    "realt['photos'].fillna(0, inplace=True)\n",
    "realt['Агентство'].fillna(\"нет\", inplace=True)\n",
    "realt['Балкон'].fillna(\"нет\", inplace=True)\n",
    "realt['Бытовая техника'].fillna('', inplace=True)\n",
    "realt['Телефон'].fillna('нет', inplace=True)\n",
    "realt['Мебель'].fillna('нет', inplace=True)\n",
    "realt['Метро'].fillna('нет', inplace=True)\n",
    "realt['Плита'].fillna('Пропуск', inplace=True)\n",
    "realt['Ремонт'].fillna('Пропуск', inplace=True)\n",
    "realt['Этаж / этажность'].fillna('0 / 0', inplace=True)\n",
    "\n",
    "# кол-во комнат (0 - комната)\n",
    "realt['rooms'] = realt['kv'].apply(lambda kv: 0 if kv.split('/')[0]==' к' else int(kv.split('/')[0]))\n",
    "\n",
    "# площадь \n",
    "realt['total_area'] = realt['area'].apply(lambda area: int(''.join(re.findall(r'\\w+', area.split('/')[0]))))\n",
    "realt['living_area'] = realt['area'].apply(lambda area: int(area.split('/')[1]))\n",
    "realt['kitchen_area'] = realt['area'].apply(lambda area: int(area.split('/')[2])) # 0 - это пропуск\n",
    "\n",
    "# значения заполнены от балды (999/99/99), замена на средние\n",
    "realt.loc[991, ['total_area', 'living_area', 'kitchen_area']] = round(realt[realt['rooms'] == 3][['total_area', 'living_area', 'kitchen_area']].mean())\n",
    "# в примечании общая площадь 83 кв.м.\n",
    "realt.loc[1651, 'total_area'] = 83"
   ]
  },
  {
   "cell_type": "code",
   "execution_count": 6,
   "metadata": {},
   "outputs": [
    {
     "data": {
      "text/plain": [
       "нет                                 893\n",
       "лоджия застекленная                 301\n",
       "балкон                              236\n",
       "лоджия                              202\n",
       "балкон застекленный                 118\n",
       "2 лоджии застекленные                60\n",
       "лоджия застекленная + вагонка        52\n",
       "балкон застекленный + вагонка        38\n",
       "2 лоджии                             34\n",
       "2 балкона                            27\n",
       "2 лоджии застекленные + вагонка      15\n",
       "2 балкона застекленные               12\n",
       "2 балкона застекленные + вагонка     10\n",
       "2 лоджии 1 застекленная               7\n",
       "2 балкона 1 застекленный              1\n",
       "Name: Балкон, dtype: int64"
      ]
     },
     "execution_count": 6,
     "metadata": {},
     "output_type": "execute_result"
    }
   ],
   "source": [
    "realt['Балкон'].value_counts(dropna=False)"
   ]
  },
  {
   "cell_type": "code",
   "execution_count": 7,
   "metadata": {},
   "outputs": [],
   "source": [
    "def get_numb_balcony(text):\n",
    "    if text == 'нет':\n",
    "        return 0\n",
    "    elif text.split()[0] in ['лоджия', 'балкон']:\n",
    "        return 1\n",
    "    else:\n",
    "        return 2"
   ]
  },
  {
   "cell_type": "code",
   "execution_count": 8,
   "metadata": {},
   "outputs": [],
   "source": [
    "realt['Балкон'] = realt['Балкон'].apply(get_numb_balcony)"
   ]
  },
  {
   "cell_type": "code",
   "execution_count": 9,
   "metadata": {},
   "outputs": [
    {
     "data": {
      "text/html": [
       "<div>\n",
       "<style>\n",
       "    .dataframe thead tr:only-child th {\n",
       "        text-align: right;\n",
       "    }\n",
       "\n",
       "    .dataframe thead th {\n",
       "        text-align: left;\n",
       "    }\n",
       "\n",
       "    .dataframe tbody tr th {\n",
       "        vertical-align: top;\n",
       "    }\n",
       "</style>\n",
       "<table border=\"1\" class=\"dataframe\">\n",
       "  <thead>\n",
       "    <tr style=\"text-align: right;\">\n",
       "      <th></th>\n",
       "      <th>mean</th>\n",
       "      <th>std</th>\n",
       "      <th>median</th>\n",
       "      <th>min</th>\n",
       "      <th>max</th>\n",
       "      <th>count</th>\n",
       "    </tr>\n",
       "    <tr>\n",
       "      <th>Балкон</th>\n",
       "      <th></th>\n",
       "      <th></th>\n",
       "      <th></th>\n",
       "      <th></th>\n",
       "      <th></th>\n",
       "      <th></th>\n",
       "    </tr>\n",
       "  </thead>\n",
       "  <tbody>\n",
       "    <tr>\n",
       "      <th>0</th>\n",
       "      <td>620.989922</td>\n",
       "      <td>447.713905</td>\n",
       "      <td>500.0</td>\n",
       "      <td>94</td>\n",
       "      <td>4000</td>\n",
       "      <td>893</td>\n",
       "    </tr>\n",
       "    <tr>\n",
       "      <th>1</th>\n",
       "      <td>461.651531</td>\n",
       "      <td>341.980229</td>\n",
       "      <td>370.0</td>\n",
       "      <td>91</td>\n",
       "      <td>3900</td>\n",
       "      <td>947</td>\n",
       "    </tr>\n",
       "    <tr>\n",
       "      <th>2</th>\n",
       "      <td>767.897590</td>\n",
       "      <td>476.113834</td>\n",
       "      <td>633.5</td>\n",
       "      <td>98</td>\n",
       "      <td>2500</td>\n",
       "      <td>166</td>\n",
       "    </tr>\n",
       "  </tbody>\n",
       "</table>\n",
       "</div>"
      ],
      "text/plain": [
       "              mean         std  median  min   max  count\n",
       "Балкон                                                  \n",
       "0       620.989922  447.713905   500.0   94  4000    893\n",
       "1       461.651531  341.980229   370.0   91  3900    947\n",
       "2       767.897590  476.113834   633.5   98  2500    166"
      ]
     },
     "execution_count": 9,
     "metadata": {},
     "output_type": "execute_result"
    }
   ],
   "source": [
    "realt.groupby('Балкон').price_usa.agg(('mean', 'std', 'median', 'min', 'max', 'count'))"
   ]
  },
  {
   "cell_type": "code",
   "execution_count": 10,
   "metadata": {},
   "outputs": [],
   "source": [
    "# мебель (частично -> нет)\n",
    "realt['Мебель'].replace('частично', 'нет', inplace=True)\n",
    "realt['Мебель'] = realt['Мебель'].apply(lambda furniture: 0 if furniture == 'нет' else 1)"
   ]
  },
  {
   "cell_type": "code",
   "execution_count": 11,
   "metadata": {},
   "outputs": [],
   "source": [
    "# телефон\n",
    "realt['Телефон'].replace({'нет': 0,\n",
    "                          'есть': 1,\n",
    "                          '2 телефона': 2}, inplace=True)"
   ]
  },
  {
   "cell_type": "code",
   "execution_count": 12,
   "metadata": {},
   "outputs": [],
   "source": [
    "# Плита: Пропуск -> электрическая\n",
    "realt['Плита'].replace('Пропуск', 'электрическая', inplace=True)\n",
    "realt['Плита'] = realt['Плита'].apply(lambda plate: 0 if plate == 'газовая' else 1)\n",
    "\n",
    "# Ремонт:  хороший ремонт (1) и без ремонта (0). \n",
    "# \"Пропуск\" отнесён пока в \"без ремонта\" (есть высокие цены, часть может быть новостройкой без ремонта)\n",
    "realt['Ремонт'] = realt['Ремонт'].apply(lambda repair: 1 if repair in ['евроремонт', 'отличный ремонт'] else 0)"
   ]
  },
  {
   "cell_type": "code",
   "execution_count": 13,
   "metadata": {},
   "outputs": [],
   "source": [
    "def get_floor_features(text):\n",
    "    \"\"\"\n",
    "    Возвращает (этаж, этажность)\n",
    "    0 - пропуск (как вариант, пропуск этажности можно заменить на этаж)\n",
    "    \"\"\"\n",
    "    items = re.findall(r'\\w+', text)\n",
    "    if items[-1] in {'этажей', 'этажа'}:\n",
    "        return (0, int(items[0]))\n",
    "    elif items[-1] == 'этаж':\n",
    "        return (int(items[0]), 0)\n",
    "    else:\n",
    "        return (int(items[0]), int(items[1]))"
   ]
  },
  {
   "cell_type": "code",
   "execution_count": 14,
   "metadata": {},
   "outputs": [],
   "source": [
    "# Этаж / этажность\n",
    "realt['floor'] = realt['Этаж / этажность'].apply(lambda f: get_floor_features(f)[0])\n",
    "realt['floors'] = realt['Этаж / этажность'].apply(lambda f: get_floor_features(f)[1])\n",
    "\n",
    "# Замена пропуска в этажности на этаж\n",
    "realt['floors'].replace(0, realt['floor'], inplace=True)\n",
    "\n",
    "# Агентство\n",
    "realt['Агентство'] = realt['Агентство'].apply(lambda agent: 0 if agent=='нет' else 1)"
   ]
  },
  {
   "cell_type": "code",
   "execution_count": 16,
   "metadata": {},
   "outputs": [],
   "source": [
    "realt.drop(['area',\n",
    "            'Этаж / этажность',\n",
    "            'kv'], axis=1, inplace=True)"
   ]
  },
  {
   "cell_type": "code",
   "execution_count": 17,
   "metadata": {},
   "outputs": [],
   "source": [
    "realt['Планировка'].fillna('Пропуск', inplace=True)\n",
    "realt['Планировка'].replace({'бреж': 'брежневка',\n",
    "                             'стал': 'сталинка',\n",
    "                             'чеш.': 'чешский проект',\n",
    "                             'таунхаус': 'Пропуск',\n",
    "                             'малосемейка': 'Пропуск',\n",
    "                             'таунхаус': 'Пропуск',\n",
    "                            'пентхаус': 'Пропуск',\n",
    "                            }, inplace=True)"
   ]
  },
  {
   "cell_type": "code",
   "execution_count": 18,
   "metadata": {},
   "outputs": [],
   "source": [
    "realt['Тип дома'].fillna('Пропуск', inplace=True)\n",
    "realt['Тип дома'].replace({'кб': 'каркасно-блочный',\n",
    "                           'КБ': 'каркасно-блочный',\n",
    "                           'сб': 'Пропуск'\n",
    "                            }, inplace=True)"
   ]
  },
  {
   "cell_type": "code",
   "execution_count": 19,
   "metadata": {},
   "outputs": [
    {
     "data": {
      "text/plain": [
       "array(['раздельный', nan, 'совмещенный', '2 сан/узла', '3 сан/узла'], dtype=object)"
      ]
     },
     "execution_count": 19,
     "metadata": {},
     "output_type": "execute_result"
    }
   ],
   "source": [
    "realt['Сан/узел'].unique()"
   ]
  },
  {
   "cell_type": "code",
   "execution_count": 20,
   "metadata": {},
   "outputs": [],
   "source": [
    "realt['Сан/узел'].fillna(1, inplace=True)\n",
    "realt['Сан/узел'].replace({'раздельный': 1,\n",
    "                           'совмещенный': 1.5,\n",
    "                           '2 сан/узла': 2,\n",
    "                           '3 сан/узла': 3\n",
    "                            }, inplace=True)"
   ]
  },
  {
   "cell_type": "raw",
   "metadata": {},
   "source": [
    "import sys\n",
    "sys.path.append('..')\n",
    "from helpers.undeground.extractor import get_stations\n",
    "\n",
    "stations = get_stations()\n",
    "\n",
    "for line in stations:\n",
    "    stations[line] = list(map(lambda row: row['name'], stations[line]))\n",
    "\n",
    "realt['Линия метро'] = realt['Метро'].apply(lambda station: 'red' if station in stations['red'] else 'blue')"
   ]
  },
  {
   "cell_type": "code",
   "execution_count": null,
   "metadata": {},
   "outputs": [],
   "source": []
  },
  {
   "cell_type": "markdown",
   "metadata": {},
   "source": [
    "### Бытовая техника из описания"
   ]
  },
  {
   "cell_type": "code",
   "execution_count": 21,
   "metadata": {},
   "outputs": [
    {
     "name": "stdout",
     "output_type": "stream",
     "text": [
      "{'', 'душевая кабина', 'кондиционер', 'холодильник', 'свч-печь', 'телевизор', 'компьютерная сеть', 'стиральная машина', 'джакузи', 'посуда', 'музыкальный центр', 'DVD-проигрыватель', 'домашний кинотеатр', 'видеомагнитофон', 'мелкая бытовая техника', 'интернет', 'компьютер', 'выделенная линия в интернет', 'посудомоечная машина', 'высокоскоростной интернет'}\n"
     ]
    }
   ],
   "source": [
    "# Какая техника вообще есть\n",
    "tech_set = set()\n",
    "for descr in realt['Бытовая техника']:\n",
    "    tech_set.update(descr.split(', '))\n",
    "print(tech_set)"
   ]
  },
  {
   "cell_type": "code",
   "execution_count": 22,
   "metadata": {},
   "outputs": [],
   "source": [
    "def get_tech_from_descr(text):\n",
    "    \"\"\"\n",
    "    Извлекает бытовую технику из описания\n",
    "    (мб можно проще)\n",
    "    \"\"\"\n",
    "    result = []\n",
    "    text = text.lower()\n",
    "    if 'душевая' in text:\n",
    "        result.append('душевая кабина')\n",
    "    if 'интернет' in text:\n",
    "        result.append('интернет')\n",
    "    if 'музыкальный центр' in text:\n",
    "        result.append('музыкальный центр')\n",
    "    if 'dvd' in text:\n",
    "        result.append('DVD-проигрыватель')\n",
    "    if 'кондиционер' in text:\n",
    "        result.append('кондиционер')\n",
    "    if 'посудомоечная' in text: \n",
    "        result.append('посудомоечная машина')\n",
    "    if 'джакузи' in text:\n",
    "        result.append('джакузи')\n",
    "    if any(tv in text for tv in ['телевизор', 'тв', 'телик']):\n",
    "        result.append('телевизор')\n",
    "    if 'свч' in text:\n",
    "        result.append('свч-печь')\n",
    "    if 'холодильник' in text:\n",
    "        result.append('холодильник')\n",
    "    if 'компьютер' in text:\n",
    "        result.append('компьютер')\n",
    "    if 'видеомагнитофон' in text:\n",
    "        result.append('видеомагнитофон')\n",
    "    if 'домашний кинотеатр' in text:\n",
    "        result.append('домашний кинотеатр')\n",
    "    if 'стиральная' in text:\n",
    "        result.append('стиральная машина')\n",
    "    return ', '.join(result)"
   ]
  },
  {
   "cell_type": "code",
   "execution_count": 23,
   "metadata": {},
   "outputs": [
    {
     "name": "stdout",
     "output_type": "stream",
     "text": [
      "Кол-во пропусков до замены: 582\n",
      "Кол-во пропусков после замены: 150\n"
     ]
    }
   ],
   "source": [
    "# Кол-во пропусков для записей с описанием (description)\n",
    "print(\"Кол-во пропусков до замены: {}\".format(realt[(realt.description != '') & (realt['Бытовая техника'] == '')].shape[0]))\n",
    "realt.loc[(realt.description != '') & (realt['Бытовая техника'] == ''), 'Бытовая техника'] = realt.loc[(realt.description != '') & (realt['Бытовая техника'] == ''), 'description'].apply(get_tech_from_descr)\n",
    "print(\"Кол-во пропусков после замены: {}\".format(realt[(realt.description != '') & (realt['Бытовая техника'] == '')].shape[0]))"
   ]
  },
  {
   "cell_type": "markdown",
   "metadata": {},
   "source": [
    "### \"Дополнительно\" из описания"
   ]
  },
  {
   "cell_type": "code",
   "execution_count": 24,
   "metadata": {},
   "outputs": [
    {
     "name": "stdout",
     "output_type": "stream",
     "text": [
      "{'', 'видео-домофон', 'окна во двор', 'встроеные шкафы', 'встроенные шкафы', 'подземный гараж', 'рядом гипермаркет', 'лифт', 'домофон', 'стеклопакеты', 'хороший вид из окна', 'рядом спортивный центр', 'видеодомофон', 'детская площадка', 'рядом рынок', 'металлическая дверь', 'парковка', 'рядом зеленая зона', 'VIP-квартира', 'сигнализация', 'рядом зеленая зона отдыха', 'благоустроенный двор', 'элитная квартира', 'рядом супермаркет', 'рядом магазин', 'гараж', 'охраняемая территория', 'консьержка'}\n"
     ]
    }
   ],
   "source": [
    "# Какое \"дополнительно\" вообще есть\n",
    "dop_set = set()\n",
    "for descr in realt['Дополнительно']:\n",
    "    dop_set.update(descr.split(', '))\n",
    "print(dop_set)"
   ]
  },
  {
   "cell_type": "code",
   "execution_count": 25,
   "metadata": {},
   "outputs": [],
   "source": [
    "def get_dop_from_descr(text):\n",
    "    \"\"\"\n",
    "    Извлекает \"дополнительно\" из описания\n",
    "    (мб можно проще)\n",
    "    \"\"\"\n",
    "    result = []\n",
    "    text = text.lower()\n",
    "    if any(door in text for door in ['металлическая дверь', 'металическая дверь']):\n",
    "        result.append('металлическая дверь')\n",
    "    if 'рядом зеленая зона' in text:\n",
    "        result.append('рядом зеленая зона')\n",
    "    if any(vid_dom in text for vid_dom in ['видеодомофон', 'видео-домофон']):\n",
    "        result.append('видеодомофон')\n",
    "    if any(yard in text for yard in ['благоустроенный двор', 'благоустроеный двор']):\n",
    "        result.append('благоустроенный двор')\n",
    "    if 'лифт' in text:\n",
    "        result.append('лифт')\n",
    "    if any(garage in text for garage in ['гараж', 'подземный гараж']):\n",
    "        result.append('гараж')\n",
    "    if 'парковка' in text:\n",
    "        result.append('парковка')\n",
    "    if 'магазин' in text:\n",
    "        result.append('рядом магазин')\n",
    "    if 'детская площадка' in text:\n",
    "        result.append('детская площадка')\n",
    "    if 'спортивный центр' in text:\n",
    "        result.append('рядом спортивный центр')\n",
    "    if any(guard_zone in text for guard_zone in ['охраняемая территория', 'охраняемая територия']):\n",
    "        result.append('охраняемая территория')\n",
    "    if 'сигнализация' in text:\n",
    "        result.append('сигнализация')\n",
    "    if 'гипермаркет' in text:\n",
    "        result.append('рядом гипермаркет')\n",
    "    if 'стеклопакеты' in text:\n",
    "        result.append('стеклопакеты')\n",
    "    if any(wardrobe in text for wardrobe in ['встроенные шкафы', 'встроеные шкафы']):\n",
    "        result.append('встроенные шкафы')\n",
    "    if 'хороший вид из окна' in text:\n",
    "        result.append('хороший вид из окна')\n",
    "    if 'консьержка' in text:\n",
    "        result.append('консьержка')\n",
    "    if 'супермаркет' in text:\n",
    "        result.append('рядом супермаркет')\n",
    "    if 'домофон' in text:\n",
    "        result.append('домофон')\n",
    "    if 'рынок' in text:\n",
    "        result.append('рядом рынок')\n",
    "    if 'супермаркет' in text:\n",
    "        result.append('рядом супермаркет')\n",
    "    if any(wardrobe in text for wardrobe in ['элитная квартира', 'vip']):\n",
    "        result.append('VIP-квартира')\n",
    "    return ', '.join(result)"
   ]
  },
  {
   "cell_type": "code",
   "execution_count": 26,
   "metadata": {},
   "outputs": [
    {
     "name": "stdout",
     "output_type": "stream",
     "text": [
      "Кол-во пропусков до замены: 587\n",
      "Кол-во пропусков до замены: 274\n"
     ]
    }
   ],
   "source": [
    "# Кол-во пропусков для записей с описанием (description)\n",
    "print(\"Кол-во пропусков до замены: {}\".format(realt[(realt.description != '') & (realt['Дополнительно'] == '')].shape[0]))\n",
    "realt.loc[(realt.description != '') & (realt['Дополнительно'] == ''), 'Дополнительно'] = realt.loc[(realt.description != '') & (realt['Дополнительно'] == ''), 'description'].apply(get_dop_from_descr)\n",
    "print(\"Кол-во пропусков до замены: {}\".format(realt[(realt.description != '') & (realt['Дополнительно'] == '')].shape[0]))"
   ]
  },
  {
   "cell_type": "markdown",
   "metadata": {},
   "source": [
    "### Извлечение микрорайонов"
   ]
  },
  {
   "cell_type": "code",
   "execution_count": 27,
   "metadata": {},
   "outputs": [],
   "source": [
    "import geopandas as gpd\n",
    "from geopy.distance import vincenty\n",
    "\n",
    "places = gpd.read_file('../data/geojson/minsk_belarus_places.geojson')\n",
    "\n",
    "suburbs = places[places['type'] == 'suburb']\n",
    "for i in realt.index:\n",
    "    first_point = realt.loc[i, ['latitude', 'longitude']]\n",
    "    min_dist = suburbs['geometry'].apply(lambda coord: vincenty(first_point, (coord.y, coord.x)).m).agg(('argmin', 'min'))\n",
    "    realt.at[i, 'Микрорайон'] = suburbs.loc[min_dist['argmin'], 'name']\n",
    "    #realt.at[i, 'Расст до района'] = min_dist['min']"
   ]
  },
  {
   "cell_type": "raw",
   "metadata": {},
   "source": []
  },
  {
   "cell_type": "code",
   "execution_count": 28,
   "metadata": {},
   "outputs": [],
   "source": [
    "realt.to_csv('../data/realt_lite_1612.csv', index=False)"
   ]
  },
  {
   "cell_type": "code",
   "execution_count": null,
   "metadata": {},
   "outputs": [],
   "source": []
  }
 ],
 "metadata": {
  "kernelspec": {
   "display_name": "Python(ML)",
   "language": "python",
   "name": "mlenv"
  },
  "language_info": {
   "codemirror_mode": {
    "name": "ipython",
    "version": 3
   },
   "file_extension": ".py",
   "mimetype": "text/x-python",
   "name": "python",
   "nbconvert_exporter": "python",
   "pygments_lexer": "ipython3",
   "version": "3.6.3"
  }
 },
 "nbformat": 4,
 "nbformat_minor": 1
}
